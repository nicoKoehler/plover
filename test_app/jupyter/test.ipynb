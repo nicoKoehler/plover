{
 "cells": [
  {
   "cell_type": "code",
   "execution_count": 78,
   "source": [
    "import threading as th\n",
    "import time\n",
    "from binance.client import Client\n",
    "from binance.streams import ThreadedWebsocketManager as tsm\n",
    "\n",
    "\n",
    "apiKey = \"LuGhVqrq1cT27Dj9Lod24DxnvyJUy9FL11MfMZFulk2AUBjCIYAuz5xGBHs14YW2\"\n",
    "apiKey_secret = \"viQI5xPonsALtTUYlBLFm66jMyIFjAZSXPPQcyMOHAKhpgMOnlcuoIRn0xbTM0Z5\"\n",
    "vSymbol = \"ETHEUR\"\n",
    "\n",
    "sp_client = Client(api_key=apiKey, api_secret=apiKey_secret)\n",
    "#sp_client.get_asset_balance(\"BTC\")\n",
    "\n",
    "#sp_client.create_test_order(\"BTC\", \"BUY\", )\n",
    "\n",
    "info = sp_client.get_symbol_info(vSymbol)\n",
    "data = sp_client.get_symbol_ticker(symbol=vSymbol)\n",
    "lastPrice = float(data[\"price\"])\n",
    "stepSize = float(info[\"filters\"][2][\"stepSize\"])\n",
    "presc = int(info[\"baseAssetPrecision\"] -1)\n",
    "qty = 0.16 / lastPrice\n",
    "qty = round(qty, presc)\n",
    "qty = max(qty, float(info[\"filters\"][2][\"minQty\"]))\n",
    "\n",
    "minNot = float(info[\"filters\"][3][\"minNotional\"])\n",
    "print(minNot/lastPrice)\n",
    "qty_not = round((minNot/lastPrice) - (minNot/lastPrice) % stepSize, presc) + stepSize\n",
    "print(f\"{qty_not} x  {lastPrice} => {qty_not * lastPrice}\")\n",
    "#newOrder = sp_client.order_market_buy(symbol=vSymbol, quantity=max(qty_not, qty), newOrderRespType=\"RESULT\", newClientOrderId=\"dsfge\")\n",
    "#newOrder\n"
   ],
   "outputs": [
    {
     "output_type": "stream",
     "name": "stdout",
     "text": [
      "0.0033835451432593015\n",
      "0.0034 x  2955.48 => 10.048632\n"
     ]
    },
    {
     "output_type": "execute_result",
     "data": {
      "text/plain": [
       "{'symbol': 'ETHEUR',\n",
       " 'orderId': 961032487,\n",
       " 'orderListId': -1,\n",
       " 'clientOrderId': 'dsfge',\n",
       " 'transactTime': 1631891895320,\n",
       " 'price': '0.00000000',\n",
       " 'origQty': '0.00340000',\n",
       " 'executedQty': '0.00340000',\n",
       " 'cummulativeQuoteQty': '10.04819000',\n",
       " 'status': 'FILLED',\n",
       " 'timeInForce': 'GTC',\n",
       " 'type': 'MARKET',\n",
       " 'side': 'BUY'}"
      ]
     },
     "metadata": {},
     "execution_count": 78
    }
   ],
   "metadata": {}
  },
  {
   "cell_type": "code",
   "execution_count": 81,
   "source": [
    "ass = sp_client.get_asset_balance(asset=\"ETH\")\n",
    "availableQty = float(ass[\"free\"])\n",
    "sqty = round(availableQty - (availableQty % stepSize), presc)\n",
    "print(sqty)\n",
    "\n",
    "newSell = sp_client.order_market_sell(symbol=vSymbol, quantity=sqty, newOrderRespType=\"RESULT\", newClientOrderId=\"adtd\")\n",
    "newSell\n",
    "\n",
    "#sp_client.get_all_orders(symbol=\"ETHEUR\")\n"
   ],
   "outputs": [
    {
     "output_type": "stream",
     "name": "stdout",
     "text": [
      "0.0067\n"
     ]
    },
    {
     "output_type": "execute_result",
     "data": {
      "text/plain": [
       "{'symbol': 'ETHEUR',\n",
       " 'orderId': 961036368,\n",
       " 'orderListId': -1,\n",
       " 'clientOrderId': 'adtd',\n",
       " 'transactTime': 1631892015181,\n",
       " 'price': '0.00000000',\n",
       " 'origQty': '0.00670000',\n",
       " 'executedQty': '0.00670000',\n",
       " 'cummulativeQuoteQty': '19.81310600',\n",
       " 'status': 'FILLED',\n",
       " 'timeInForce': 'GTC',\n",
       " 'type': 'MARKET',\n",
       " 'side': 'SELL'}"
      ]
     },
     "metadata": {},
     "execution_count": 81
    }
   ],
   "metadata": {}
  },
  {
   "cell_type": "code",
   "execution_count": 87,
   "source": [
    "ass = sp_client.get_asset_balance(asset=\"ETH\")\n",
    "float(ass[\"free\"]) * lastPrice\n",
    "\n",
    "float(newSell[\"cummulativeQuoteQty\"])/float(newSell[\"executedQty\"])"
   ],
   "outputs": [
    {
     "output_type": "execute_result",
     "data": {
      "text/plain": [
       "2957.1800000000003"
      ]
     },
     "metadata": {},
     "execution_count": 87
    }
   ],
   "metadata": {}
  },
  {
   "cell_type": "code",
   "execution_count": 55,
   "source": [
    "import pandas as pd\n",
    "import json\n",
    "df = pd.DataFrame([['Jay',16,'BBA'],\n",
    "                   ['Jack',19,'BTech'],\n",
    "                   ['Mark',18,'BSc']],\n",
    "                  columns = ['Name','Age','Course'])\n",
    "\n",
    "\n",
    "dtest = {\n",
    "    \"test1\": 0\n",
    "    ,\"test2\": \"B\"\n",
    "    ,\"testDF\": df\n",
    "}\n",
    "\n",
    "\n",
    "def udf_printDict(d, header=\"\"):\n",
    "\n",
    "    # iterate over dict and convert any instance of DF to json, otherwise ERROR\n",
    "    dh = {}\n",
    "    for k,v in d.items():\n",
    "        if isinstance(v, pd.DataFrame):\n",
    "            print(f\"DF: {v}\")\n",
    "            dh[k] = v.to_json(orient = 'records')\n",
    "        else:\n",
    "            print(f\"no DF: {v}\")\n",
    "            dh[k] = v\n",
    "\n",
    "    print(dh)\n",
    "    print(f\"\\n ++++++++++++++++++ {header} ++++++++++++++++++\")\n",
    "    print(json.dumps(dh, indent=2))\n",
    "    print(\"++++++++++++++++++++++++++++++++++++\")\n",
    "\n"
   ],
   "outputs": [],
   "metadata": {}
  },
  {
   "cell_type": "code",
   "execution_count": 69,
   "source": [
    "from tabulate import tabulate as tb\n",
    "\n",
    "\n",
    "\n",
    "df=dtest[\"testDF\"].groupby([\"Name\"])[\"Age\"].sum()\n",
    "\n",
    "\n"
   ],
   "outputs": [],
   "metadata": {}
  },
  {
   "cell_type": "code",
   "execution_count": 73,
   "source": [
    "dtest[\"testDF\"][\"Age\"].tail(2).sum()"
   ],
   "outputs": [
    {
     "output_type": "execute_result",
     "data": {
      "text/plain": [
       "37"
      ]
     },
     "metadata": {},
     "execution_count": 73
    }
   ],
   "metadata": {}
  },
  {
   "cell_type": "code",
   "execution_count": 41,
   "source": [
    "dh = {}\n",
    "def dictRework(d, dn):\n",
    "\n",
    "    for k,v in d.items():\n",
    "        print(k, v)\n",
    "        if isinstance(v, pd.DataFrame):\n",
    "            dn[k] = {}\n",
    "            return dictRework(v,dn[k])\n",
    "        else:\n",
    "            dn[k] = v\n",
    "        print(dn)\n",
    "    return dn\n"
   ],
   "outputs": [],
   "metadata": {}
  },
  {
   "cell_type": "code",
   "execution_count": 53,
   "source": [
    "import time\n",
    "import datetime as dt\n",
    "ddate = pd.to_datetime(time.time(), unit=\"s\").tz_localize(\"UTC\").tz_convert(\"CET\")\n",
    "\n",
    "dt.datetime.strftime(ddate, \"%y%m%d %H:%M:%S\")"
   ],
   "outputs": [
    {
     "output_type": "execute_result",
     "data": {
      "text/plain": [
       "'210913.164846'"
      ]
     },
     "metadata": {},
     "execution_count": 53
    }
   ],
   "metadata": {}
  }
 ],
 "metadata": {
  "orig_nbformat": 4,
  "language_info": {
   "name": "python",
   "version": "3.9.5",
   "mimetype": "text/x-python",
   "codemirror_mode": {
    "name": "ipython",
    "version": 3
   },
   "pygments_lexer": "ipython3",
   "nbconvert_exporter": "python",
   "file_extension": ".py"
  },
  "kernelspec": {
   "name": "python3",
   "display_name": "Python 3.9.5 64-bit"
  },
  "interpreter": {
   "hash": "31f2aee4e71d21fbe5cf8b01ff0e069b9275f58929596ceb00d14d90e3e16cd6"
  }
 },
 "nbformat": 4,
 "nbformat_minor": 2
}